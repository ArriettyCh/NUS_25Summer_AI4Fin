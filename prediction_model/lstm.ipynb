{
 "cells": [
  {
   "metadata": {
    "ExecuteTime": {
     "end_time": "2025-07-16T11:47:53.866467Z",
     "start_time": "2025-07-16T11:47:37.417783Z"
    }
   },
   "cell_type": "code",
   "source": [
    "import numpy as np\n",
    "import matplotlib.pyplot as plt\n",
    "from pandas import read_parquet\n",
    "import tensorflow as tf\n",
    "from tensorflow.keras.models import Sequential\n",
    "from tensorflow.keras.layers import Dense, Dropout, Bidirectional, LSTM\n",
    "from sklearn.preprocessing import MinMaxScaler\n",
    "from sklearn.metrics import mean_squared_error"
   ],
   "id": "28eab53cd0343e8a",
   "outputs": [],
   "execution_count": 2
  },
  {
   "metadata": {
    "ExecuteTime": {
     "end_time": "2025-07-16T12:00:34.746137Z",
     "start_time": "2025-07-16T12:00:34.645272Z"
    }
   },
   "cell_type": "code",
   "source": [
    "dataframe = read_parquet('kline_data/kline_data/train_data/1000FLOKIUSDT.parquet')\n",
    "dataframe.head(5)"
   ],
   "id": "1b75e3de5198264e",
   "outputs": [
    {
     "data": {
      "text/plain": [
       "       timestamp open_price high_price  low_price close_price    volume  \\\n",
       "0  1683390600000  0.0423100  0.0444600  0.0423100   0.0432000  91614205   \n",
       "1  1683391500000  0.0431900  0.0437500  0.0428700   0.0433200  61141456   \n",
       "2  1683392400000  0.0433200  0.0436500  0.0429000   0.0432000  51385122   \n",
       "3  1683393300000  0.0432100  0.0433000  0.0423900   0.0428600  54321490   \n",
       "4  1683394200000  0.0428500  0.0434700  0.0426500   0.0429500  37486122   \n",
       "\n",
       "            amount  count buy_volume       buy_amount  \n",
       "0  3986427.2652500  16405   46218295  2010734.9819600  \n",
       "1  2646329.8671100  11214   31271274  1353742.8878800  \n",
       "2  2223310.8747900   8909   26248343  1135844.9290600  \n",
       "3  2329436.1780000   9208   25720153  1103324.2959700  \n",
       "4  1616366.3676500   7528   18928398   816380.6000400  "
      ],
      "text/html": [
       "<div>\n",
       "<style scoped>\n",
       "    .dataframe tbody tr th:only-of-type {\n",
       "        vertical-align: middle;\n",
       "    }\n",
       "\n",
       "    .dataframe tbody tr th {\n",
       "        vertical-align: top;\n",
       "    }\n",
       "\n",
       "    .dataframe thead th {\n",
       "        text-align: right;\n",
       "    }\n",
       "</style>\n",
       "<table border=\"1\" class=\"dataframe\">\n",
       "  <thead>\n",
       "    <tr style=\"text-align: right;\">\n",
       "      <th></th>\n",
       "      <th>timestamp</th>\n",
       "      <th>open_price</th>\n",
       "      <th>high_price</th>\n",
       "      <th>low_price</th>\n",
       "      <th>close_price</th>\n",
       "      <th>volume</th>\n",
       "      <th>amount</th>\n",
       "      <th>count</th>\n",
       "      <th>buy_volume</th>\n",
       "      <th>buy_amount</th>\n",
       "    </tr>\n",
       "  </thead>\n",
       "  <tbody>\n",
       "    <tr>\n",
       "      <th>0</th>\n",
       "      <td>1683390600000</td>\n",
       "      <td>0.0423100</td>\n",
       "      <td>0.0444600</td>\n",
       "      <td>0.0423100</td>\n",
       "      <td>0.0432000</td>\n",
       "      <td>91614205</td>\n",
       "      <td>3986427.2652500</td>\n",
       "      <td>16405</td>\n",
       "      <td>46218295</td>\n",
       "      <td>2010734.9819600</td>\n",
       "    </tr>\n",
       "    <tr>\n",
       "      <th>1</th>\n",
       "      <td>1683391500000</td>\n",
       "      <td>0.0431900</td>\n",
       "      <td>0.0437500</td>\n",
       "      <td>0.0428700</td>\n",
       "      <td>0.0433200</td>\n",
       "      <td>61141456</td>\n",
       "      <td>2646329.8671100</td>\n",
       "      <td>11214</td>\n",
       "      <td>31271274</td>\n",
       "      <td>1353742.8878800</td>\n",
       "    </tr>\n",
       "    <tr>\n",
       "      <th>2</th>\n",
       "      <td>1683392400000</td>\n",
       "      <td>0.0433200</td>\n",
       "      <td>0.0436500</td>\n",
       "      <td>0.0429000</td>\n",
       "      <td>0.0432000</td>\n",
       "      <td>51385122</td>\n",
       "      <td>2223310.8747900</td>\n",
       "      <td>8909</td>\n",
       "      <td>26248343</td>\n",
       "      <td>1135844.9290600</td>\n",
       "    </tr>\n",
       "    <tr>\n",
       "      <th>3</th>\n",
       "      <td>1683393300000</td>\n",
       "      <td>0.0432100</td>\n",
       "      <td>0.0433000</td>\n",
       "      <td>0.0423900</td>\n",
       "      <td>0.0428600</td>\n",
       "      <td>54321490</td>\n",
       "      <td>2329436.1780000</td>\n",
       "      <td>9208</td>\n",
       "      <td>25720153</td>\n",
       "      <td>1103324.2959700</td>\n",
       "    </tr>\n",
       "    <tr>\n",
       "      <th>4</th>\n",
       "      <td>1683394200000</td>\n",
       "      <td>0.0428500</td>\n",
       "      <td>0.0434700</td>\n",
       "      <td>0.0426500</td>\n",
       "      <td>0.0429500</td>\n",
       "      <td>37486122</td>\n",
       "      <td>1616366.3676500</td>\n",
       "      <td>7528</td>\n",
       "      <td>18928398</td>\n",
       "      <td>816380.6000400</td>\n",
       "    </tr>\n",
       "  </tbody>\n",
       "</table>\n",
       "</div>"
      ]
     },
     "execution_count": 39,
     "metadata": {},
     "output_type": "execute_result"
    }
   ],
   "execution_count": 39
  },
  {
   "metadata": {
    "ExecuteTime": {
     "end_time": "2025-07-16T12:00:35.614908Z",
     "start_time": "2025-07-16T12:00:35.598965Z"
    }
   },
   "cell_type": "code",
   "source": "dataframe.describe()",
   "id": "a04768ac0bfa5973",
   "outputs": [
    {
     "data": {
      "text/plain": [
       "          timestamp          count\n",
       "count  5.807800e+04   58078.000000\n",
       "mean   1.709525e+12    7152.956076\n",
       "std    1.508924e+10   12862.852430\n",
       "min    1.683391e+12      37.000000\n",
       "25%    1.696458e+12     803.000000\n",
       "50%    1.709525e+12    3185.500000\n",
       "75%    1.722593e+12    8167.750000\n",
       "max    1.735660e+12  425066.000000"
      ],
      "text/html": [
       "<div>\n",
       "<style scoped>\n",
       "    .dataframe tbody tr th:only-of-type {\n",
       "        vertical-align: middle;\n",
       "    }\n",
       "\n",
       "    .dataframe tbody tr th {\n",
       "        vertical-align: top;\n",
       "    }\n",
       "\n",
       "    .dataframe thead th {\n",
       "        text-align: right;\n",
       "    }\n",
       "</style>\n",
       "<table border=\"1\" class=\"dataframe\">\n",
       "  <thead>\n",
       "    <tr style=\"text-align: right;\">\n",
       "      <th></th>\n",
       "      <th>timestamp</th>\n",
       "      <th>count</th>\n",
       "    </tr>\n",
       "  </thead>\n",
       "  <tbody>\n",
       "    <tr>\n",
       "      <th>count</th>\n",
       "      <td>5.807800e+04</td>\n",
       "      <td>58078.000000</td>\n",
       "    </tr>\n",
       "    <tr>\n",
       "      <th>mean</th>\n",
       "      <td>1.709525e+12</td>\n",
       "      <td>7152.956076</td>\n",
       "    </tr>\n",
       "    <tr>\n",
       "      <th>std</th>\n",
       "      <td>1.508924e+10</td>\n",
       "      <td>12862.852430</td>\n",
       "    </tr>\n",
       "    <tr>\n",
       "      <th>min</th>\n",
       "      <td>1.683391e+12</td>\n",
       "      <td>37.000000</td>\n",
       "    </tr>\n",
       "    <tr>\n",
       "      <th>25%</th>\n",
       "      <td>1.696458e+12</td>\n",
       "      <td>803.000000</td>\n",
       "    </tr>\n",
       "    <tr>\n",
       "      <th>50%</th>\n",
       "      <td>1.709525e+12</td>\n",
       "      <td>3185.500000</td>\n",
       "    </tr>\n",
       "    <tr>\n",
       "      <th>75%</th>\n",
       "      <td>1.722593e+12</td>\n",
       "      <td>8167.750000</td>\n",
       "    </tr>\n",
       "    <tr>\n",
       "      <th>max</th>\n",
       "      <td>1.735660e+12</td>\n",
       "      <td>425066.000000</td>\n",
       "    </tr>\n",
       "  </tbody>\n",
       "</table>\n",
       "</div>"
      ]
     },
     "execution_count": 40,
     "metadata": {},
     "output_type": "execute_result"
    }
   ],
   "execution_count": 40
  },
  {
   "metadata": {
    "ExecuteTime": {
     "end_time": "2025-07-16T12:00:36.185493Z",
     "start_time": "2025-07-16T12:00:36.159404Z"
    }
   },
   "cell_type": "code",
   "source": "tf.random.set_seed(2025)",
   "id": "e0a0942948a60e94",
   "outputs": [],
   "execution_count": 41
  },
  {
   "metadata": {
    "ExecuteTime": {
     "end_time": "2025-07-16T12:00:36.815714Z",
     "start_time": "2025-07-16T12:00:36.794628Z"
    }
   },
   "cell_type": "code",
   "source": [
    "dataset = dataframe.values\n",
    "print(\"前5行所有列:\\n\", dataset[:5])"
   ],
   "id": "91b80de417ab7c54",
   "outputs": [
    {
     "name": "stdout",
     "output_type": "stream",
     "text": [
      "前5行所有列:\n",
      " [[1683390600000 '0.0423100' '0.0444600' '0.0423100' '0.0432000'\n",
      "  '91614205' '3986427.2652500' 16405 '46218295' '2010734.9819600']\n",
      " [1683391500000 '0.0431900' '0.0437500' '0.0428700' '0.0433200'\n",
      "  '61141456' '2646329.8671100' 11214 '31271274' '1353742.8878800']\n",
      " [1683392400000 '0.0433200' '0.0436500' '0.0429000' '0.0432000'\n",
      "  '51385122' '2223310.8747900' 8909 '26248343' '1135844.9290600']\n",
      " [1683393300000 '0.0432100' '0.0433000' '0.0423900' '0.0428600'\n",
      "  '54321490' '2329436.1780000' 9208 '25720153' '1103324.2959700']\n",
      " [1683394200000 '0.0428500' '0.0434700' '0.0426500' '0.0429500'\n",
      "  '37486122' '1616366.3676500' 7528 '18928398' '816380.6000400']]\n"
     ]
    }
   ],
   "execution_count": 42
  },
  {
   "metadata": {
    "ExecuteTime": {
     "end_time": "2025-07-16T12:00:37.427205Z",
     "start_time": "2025-07-16T12:00:37.414245Z"
    }
   },
   "cell_type": "code",
   "source": [
    "dataset = np.delete(dataset, 0, axis=1)\n",
    "print(\"前5行所有列:\\n\", dataset[:5])"
   ],
   "id": "537cd38275d9bac5",
   "outputs": [
    {
     "name": "stdout",
     "output_type": "stream",
     "text": [
      "前5行所有列:\n",
      " [['0.0423100' '0.0444600' '0.0423100' '0.0432000' '91614205'\n",
      "  '3986427.2652500' 16405 '46218295' '2010734.9819600']\n",
      " ['0.0431900' '0.0437500' '0.0428700' '0.0433200' '61141456'\n",
      "  '2646329.8671100' 11214 '31271274' '1353742.8878800']\n",
      " ['0.0433200' '0.0436500' '0.0429000' '0.0432000' '51385122'\n",
      "  '2223310.8747900' 8909 '26248343' '1135844.9290600']\n",
      " ['0.0432100' '0.0433000' '0.0423900' '0.0428600' '54321490'\n",
      "  '2329436.1780000' 9208 '25720153' '1103324.2959700']\n",
      " ['0.0428500' '0.0434700' '0.0426500' '0.0429500' '37486122'\n",
      "  '1616366.3676500' 7528 '18928398' '816380.6000400']]\n"
     ]
    }
   ],
   "execution_count": 43
  },
  {
   "metadata": {
    "ExecuteTime": {
     "end_time": "2025-07-16T12:00:38.089254Z",
     "start_time": "2025-07-16T12:00:38.033005Z"
    }
   },
   "cell_type": "code",
   "source": [
    "dataset = dataset.astype('float32')\n",
    "print(len(dataset))"
   ],
   "id": "4db07443a2f82446",
   "outputs": [
    {
     "name": "stdout",
     "output_type": "stream",
     "text": [
      "58078\n"
     ]
    }
   ],
   "execution_count": 44
  },
  {
   "metadata": {
    "ExecuteTime": {
     "end_time": "2025-07-16T12:00:38.664870Z",
     "start_time": "2025-07-16T12:00:38.658874Z"
    }
   },
   "cell_type": "code",
   "source": "print(\"前5行所有列:\\n\", dataset[:5])",
   "id": "ceef17b52d8927d0",
   "outputs": [
    {
     "name": "stdout",
     "output_type": "stream",
     "text": [
      "前5行所有列:\n",
      " [[4.2309999e-02 4.4459999e-02 4.2309999e-02 4.3200001e-02 9.1614208e+07\n",
      "  3.9864272e+06 1.6405000e+04 4.6218296e+07 2.0107350e+06]\n",
      " [4.3189999e-02 4.3749999e-02 4.2870000e-02 4.3320000e-02 6.1141456e+07\n",
      "  2.6463298e+06 1.1214000e+04 3.1271274e+07 1.3537429e+06]\n",
      " [4.3320000e-02 4.3650001e-02 4.2900000e-02 4.3200001e-02 5.1385120e+07\n",
      "  2.2233108e+06 8.9090000e+03 2.6248344e+07 1.1358449e+06]\n",
      " [4.3210000e-02 4.3299999e-02 4.2390000e-02 4.2860001e-02 5.4321488e+07\n",
      "  2.3294362e+06 9.2080000e+03 2.5720152e+07 1.1033242e+06]\n",
      " [4.2849999e-02 4.3469999e-02 4.2649999e-02 4.2950001e-02 3.7486120e+07\n",
      "  1.6163664e+06 7.5280000e+03 1.8928398e+07 8.1638062e+05]]\n"
     ]
    }
   ],
   "execution_count": 45
  },
  {
   "metadata": {
    "ExecuteTime": {
     "end_time": "2025-07-16T12:00:39.239656Z",
     "start_time": "2025-07-16T12:00:39.232028Z"
    }
   },
   "cell_type": "code",
   "source": [
    "scaler = MinMaxScaler(feature_range=(0, 1))\n",
    "dataset = scaler.fit_transform(dataset)"
   ],
   "id": "b85dce0a4897fd9a",
   "outputs": [],
   "execution_count": 46
  },
  {
   "metadata": {
    "ExecuteTime": {
     "end_time": "2025-07-16T12:00:39.752520Z",
     "start_time": "2025-07-16T12:00:39.746671Z"
    }
   },
   "cell_type": "code",
   "source": [
    "print(\"前5行所有列:\\n\", dataset[:5])\n",
    "print(\"后5行所有列:\\n\", dataset[-5:])"
   ],
   "id": "73c5a0694df08d1f",
   "outputs": [
    {
     "name": "stdout",
     "output_type": "stream",
     "text": [
      "前5行所有列:\n",
      " [[0.08183445 0.08708933 0.08363324 0.08451601 0.0691802  0.02527599\n",
      "  0.03851032 0.06457863 0.0254451 ]\n",
      " [0.08450362 0.08496301 0.08535574 0.08487991 0.04615235 0.01677565\n",
      "  0.02629703 0.0436833  0.01712959]\n",
      " [0.08489794 0.08466353 0.085448   0.08451601 0.03877962 0.01409241\n",
      "  0.02087387 0.03666145 0.01437166]\n",
      " [0.08456428 0.08361533 0.08387931 0.08348496 0.04099859 0.01476557\n",
      "  0.02157735 0.03592306 0.01396005]\n",
      " [0.08347236 0.08412446 0.08467903 0.08375788 0.02827633 0.01024251\n",
      "  0.01762468 0.02642847 0.01032822]]\n",
      "后5行所有列:\n",
      " [[0.49892324 0.4940253  0.50324506 0.49863535 0.00789787 0.01197355\n",
      "  0.02239847 0.00667576 0.01090505]\n",
      " [0.49877155 0.4939354  0.50195324 0.49824113 0.00629655 0.00955133\n",
      "  0.02194909 0.0056063  0.00916199]\n",
      " [0.49834692 0.4923482  0.50422937 0.49757397 0.00324288 0.00494986\n",
      "  0.01378024 0.00254563 0.00418275]\n",
      " [0.49770993 0.49378568 0.5044754  0.49781656 0.00288998 0.00442587\n",
      "  0.01114042 0.00303703 0.00498962]\n",
      " [0.49789196 0.49597192 0.50505984 0.5010007  0.00378224 0.00579137\n",
      "  0.01339438 0.00400656 0.0065888 ]]\n"
     ]
    }
   ],
   "execution_count": 47
  },
  {
   "metadata": {
    "ExecuteTime": {
     "end_time": "2025-07-16T12:00:40.129405Z",
     "start_time": "2025-07-16T12:00:40.124440Z"
    }
   },
   "cell_type": "code",
   "source": [
    "min_original = scaler.data_min_[3]\n",
    "max_original = scaler.data_max_[3]\n",
    "\n",
    "def inverse_first_column(scaled_data):\n",
    "    print(len(scaled_data))\n",
    "    for i in range(len(scaled_data)):\n",
    "        scaled_data[i] = scaled_data[i] * (max_original - min_original) + min_original\n",
    "    return scaled_data"
   ],
   "id": "a84a9e992778703a",
   "outputs": [],
   "execution_count": 48
  },
  {
   "metadata": {
    "ExecuteTime": {
     "end_time": "2025-07-16T12:00:40.687052Z",
     "start_time": "2025-07-16T12:00:40.622003Z"
    }
   },
   "cell_type": "code",
   "source": [
    "# convert an array of values into a dataset matrix\n",
    "def create_dataset(dataset, look_back):\n",
    "    dataX, dataY = [], []\n",
    "    for i in range(len(dataset)-look_back):\n",
    "        a = dataset[i:(i+look_back), :]\n",
    "        dataX.append(a)\n",
    "        dataY.append(dataset[i + look_back, 3])\n",
    "    return np.array(dataX), np.array(dataY)\n",
    "\n",
    "# split into train and test sets\n",
    "train_size = int(len(dataset) * 0.67)\n",
    "test_size = len(dataset) - train_size\n",
    "train, test = dataset[0:train_size,:], dataset[train_size:len(dataset),:]\n",
    "# reshape into X=t and Y=t+1\n",
    "look_back = 10\n",
    "trainX, trainY = create_dataset(train, look_back)\n",
    "testX, testY = create_dataset(test, look_back)"
   ],
   "id": "ee4dca4fdc5d02ca",
   "outputs": [],
   "execution_count": 49
  },
  {
   "metadata": {
    "ExecuteTime": {
     "end_time": "2025-07-16T12:00:41.271650Z",
     "start_time": "2025-07-16T12:00:41.266477Z"
    }
   },
   "cell_type": "code",
   "source": [
    "trainX = np.reshape(trainX, (trainX.shape[0], trainX.shape[1], trainX.shape[2]))\n",
    "testX = np.reshape(testX, (testX.shape[0], testX.shape[1], trainX.shape[2]))\n",
    "\n",
    "print(trainX.shape)\n",
    "print(testX.shape)"
   ],
   "id": "79ed1454da1c5c22",
   "outputs": [
    {
     "name": "stdout",
     "output_type": "stream",
     "text": [
      "(38902, 10, 9)\n",
      "(19156, 10, 9)\n"
     ]
    }
   ],
   "execution_count": 50
  },
  {
   "metadata": {
    "ExecuteTime": {
     "end_time": "2025-07-16T12:00:41.887652Z",
     "start_time": "2025-07-16T12:00:41.881562Z"
    }
   },
   "cell_type": "code",
   "source": [
    "print(trainY[:5])\n",
    "print(trainX[:5])"
   ],
   "id": "920cc6b72e268b47",
   "outputs": [
    {
     "name": "stdout",
     "output_type": "stream",
     "text": [
      "[0.08296943 0.07726832 0.07790513 0.07784449 0.07772319]\n",
      "[[[0.08183445 0.08708933 0.08363324 0.08451601 0.0691802  0.02527599\n",
      "   0.03851032 0.06457863 0.0254451 ]\n",
      "  [0.08450362 0.08496301 0.08535574 0.08487991 0.04615235 0.01677565\n",
      "   0.02629703 0.0436833  0.01712959]\n",
      "  [0.08489794 0.08466353 0.085448   0.08451601 0.03877962 0.01409241\n",
      "   0.02087387 0.03666145 0.01437166]\n",
      "  [0.08456428 0.08361533 0.08387931 0.08348496 0.04099859 0.01476557\n",
      "   0.02157735 0.03592306 0.01396005]\n",
      "  [0.08347236 0.08412446 0.08467903 0.08375788 0.02827633 0.01024251\n",
      "   0.01762468 0.02642847 0.01032822]\n",
      "  [0.08377567 0.08529244 0.08550953 0.08527414 0.04056031 0.01478381\n",
      "   0.02209967 0.04124046 0.01621161]\n",
      "  [0.0853529  0.08418436 0.08569408 0.08475862 0.02925165 0.010627\n",
      "   0.01719412 0.02477475 0.00970832]\n",
      "  [0.08477661 0.08388487 0.08271048 0.08296943 0.04782738 0.0171115\n",
      "   0.03215075 0.04076852 0.01573427]\n",
      "  [0.08295672 0.08220778 0.08375628 0.08224163 0.0231395  0.00826766\n",
      "   0.01402728 0.0228033  0.00878845]\n",
      "  [0.08228941 0.0827169  0.08403311 0.0828178  0.02220344 0.00796898\n",
      "   0.01305323 0.02374456 0.00918733]]\n",
      "\n",
      " [[0.08450362 0.08496301 0.08535574 0.08487991 0.04615235 0.01677565\n",
      "   0.02629703 0.0436833  0.01712959]\n",
      "  [0.08489794 0.08466353 0.085448   0.08451601 0.03877962 0.01409241\n",
      "   0.02087387 0.03666145 0.01437166]\n",
      "  [0.08456428 0.08361533 0.08387931 0.08348496 0.04099859 0.01476557\n",
      "   0.02157735 0.03592306 0.01396005]\n",
      "  [0.08347236 0.08412446 0.08467903 0.08375788 0.02827633 0.01024251\n",
      "   0.01762468 0.02642847 0.01032822]\n",
      "  [0.08377567 0.08529244 0.08550953 0.08527414 0.04056031 0.01478381\n",
      "   0.02209967 0.04124046 0.01621161]\n",
      "  [0.0853529  0.08418436 0.08569408 0.08475862 0.02925165 0.010627\n",
      "   0.01719412 0.02477475 0.00970832]\n",
      "  [0.08477661 0.08388487 0.08271048 0.08296943 0.04782738 0.0171115\n",
      "   0.03215075 0.04076852 0.01573427]\n",
      "  [0.08295672 0.08220778 0.08375628 0.08224163 0.0231395  0.00826766\n",
      "   0.01402728 0.0228033  0.00878845]\n",
      "  [0.08228941 0.0827169  0.08403311 0.0828178  0.02220344 0.00796898\n",
      "   0.01305323 0.02374456 0.00918733]\n",
      "  [0.08283539 0.0835854  0.08430993 0.08296943 0.02354692 0.00849035\n",
      "   0.014679   0.02127621 0.00827387]]\n",
      "\n",
      " [[0.08489794 0.08466353 0.085448   0.08451601 0.03877962 0.01409241\n",
      "   0.02087387 0.03666145 0.01437166]\n",
      "  [0.08456428 0.08361533 0.08387931 0.08348496 0.04099859 0.01476557\n",
      "   0.02157735 0.03592306 0.01396005]\n",
      "  [0.08347236 0.08412446 0.08467903 0.08375788 0.02827633 0.01024251\n",
      "   0.01762468 0.02642847 0.01032822]\n",
      "  [0.08377567 0.08529244 0.08550953 0.08527414 0.04056031 0.01478381\n",
      "   0.02209967 0.04124046 0.01621161]\n",
      "  [0.0853529  0.08418436 0.08569408 0.08475862 0.02925165 0.010627\n",
      "   0.01719412 0.02477475 0.00970832]\n",
      "  [0.08477661 0.08388487 0.08271048 0.08296943 0.04782738 0.0171115\n",
      "   0.03215075 0.04076852 0.01573427]\n",
      "  [0.08295672 0.08220778 0.08375628 0.08224163 0.0231395  0.00826766\n",
      "   0.01402728 0.0228033  0.00878845]\n",
      "  [0.08228941 0.0827169  0.08403311 0.0828178  0.02220344 0.00796898\n",
      "   0.01305323 0.02374456 0.00918733]\n",
      "  [0.08283539 0.0835854  0.08430993 0.08296943 0.02354692 0.00849035\n",
      "   0.014679   0.02127621 0.00827387]\n",
      "  [0.08292639 0.08181845 0.07760452 0.07726832 0.09028856 0.031258\n",
      "   0.06077939 0.08041161 0.02999098]]\n",
      "\n",
      " [[0.08456428 0.08361533 0.08387931 0.08348496 0.04099859 0.01476557\n",
      "   0.02157735 0.03592306 0.01396005]\n",
      "  [0.08347236 0.08412446 0.08467903 0.08375788 0.02827633 0.01024251\n",
      "   0.01762468 0.02642847 0.01032822]\n",
      "  [0.08377567 0.08529244 0.08550953 0.08527414 0.04056031 0.01478381\n",
      "   0.02209967 0.04124046 0.01621161]\n",
      "  [0.0853529  0.08418436 0.08569408 0.08475862 0.02925165 0.010627\n",
      "   0.01719412 0.02477475 0.00970832]\n",
      "  [0.08477661 0.08388487 0.08271048 0.08296943 0.04782738 0.0171115\n",
      "   0.03215075 0.04076852 0.01573427]\n",
      "  [0.08295672 0.08220778 0.08375628 0.08224163 0.0231395  0.00826766\n",
      "   0.01402728 0.0228033  0.00878845]\n",
      "  [0.08228941 0.0827169  0.08403311 0.0828178  0.02220344 0.00796898\n",
      "   0.01305323 0.02374456 0.00918733]\n",
      "  [0.08283539 0.0835854  0.08430993 0.08296943 0.02354692 0.00849035\n",
      "   0.014679   0.02127621 0.00827387]\n",
      "  [0.08292639 0.08181845 0.07760452 0.07726832 0.09028856 0.031258\n",
      "   0.06077939 0.08041161 0.02999098]\n",
      "  [0.07731505 0.07753585 0.07818893 0.07790513 0.02070179 0.00711954\n",
      "   0.01238739 0.02036577 0.00755764]]\n",
      "\n",
      " [[0.08347236 0.08412446 0.08467903 0.08375788 0.02827633 0.01024251\n",
      "   0.01762468 0.02642847 0.01032822]\n",
      "  [0.08377567 0.08529244 0.08550953 0.08527414 0.04056031 0.01478381\n",
      "   0.02209967 0.04124046 0.01621161]\n",
      "  [0.0853529  0.08418436 0.08569408 0.08475862 0.02925165 0.010627\n",
      "   0.01719412 0.02477475 0.00970832]\n",
      "  [0.08477661 0.08388487 0.08271048 0.08296943 0.04782738 0.0171115\n",
      "   0.03215075 0.04076852 0.01573427]\n",
      "  [0.08295672 0.08220778 0.08375628 0.08224163 0.0231395  0.00826766\n",
      "   0.01402728 0.0228033  0.00878845]\n",
      "  [0.08228941 0.0827169  0.08403311 0.0828178  0.02220344 0.00796898\n",
      "   0.01305323 0.02374456 0.00918733]\n",
      "  [0.08283539 0.0835854  0.08430993 0.08296943 0.02354692 0.00849035\n",
      "   0.014679   0.02127621 0.00827387]\n",
      "  [0.08292639 0.08181845 0.07760452 0.07726832 0.09028856 0.031258\n",
      "   0.06077939 0.08041161 0.02999098]\n",
      "  [0.07731505 0.07753585 0.07818893 0.07790513 0.02070179 0.00711954\n",
      "   0.01238739 0.02036577 0.00755764]\n",
      "  [0.07801268 0.07762569 0.07809665 0.07784449 0.02108843 0.00724685\n",
      "   0.01226269 0.02029695 0.00752662]]]\n"
     ]
    }
   ],
   "execution_count": 51
  },
  {
   "metadata": {
    "ExecuteTime": {
     "end_time": "2025-07-16T12:08:43.649640Z",
     "start_time": "2025-07-16T12:00:42.709307Z"
    }
   },
   "cell_type": "code",
   "source": [
    "# def directional_loss(y_true, y_pred):\n",
    "#     # 原始MSE部分\n",
    "#     mse = tf.keras.losses.MeanSquaredError()(y_true, y_pred)\n",
    "#     # 增加趋势惩罚项：预测值与真实值的变化方向一致性\n",
    "#     # 计算一阶差分（确保序列长度 > 1）\n",
    "#     if tf.shape(y_true)[0] > 1:\n",
    "#         true_diff = y_true[1:] - y_true[:-1]\n",
    "#         pred_diff = y_pred[1:] - y_pred[:-1]\n",
    "#         direction_penalty = tf.reduce_mean(tf.abs(tf.sign(true_diff) - tf.sign(pred_diff)))\n",
    "#         return mse + 0.5 * direction_penalty\n",
    "#     else:\n",
    "#         return mse  # 单个样本时返回纯MSE\n",
    "    \n",
    "def directional_loss(y_true, y_pred):\n",
    "    # 原始MSE部分\n",
    "    mse = tf.keras.losses.MeanSquaredError()(y_true, y_pred)\n",
    "    \n",
    "    # 使用TensorFlow控制流替代Python if\n",
    "    def calculate_penalty():\n",
    "        # 计算一阶差分\n",
    "        true_diff = y_true[1:] - y_true[:-1]\n",
    "        pred_diff = y_pred[1:] - y_pred[:-1]\n",
    "        \n",
    "        # 计算方向惩罚项\n",
    "        sign_diff = tf.abs(tf.sign(true_diff) - tf.sign(pred_diff))\n",
    "        return tf.reduce_mean(sign_diff)\n",
    "    \n",
    "    def no_penalty():\n",
    "        return tf.constant(0.0, dtype=tf.float32)\n",
    "    \n",
    "    # 使用tf.cond处理条件分支\n",
    "    direction_penalty = tf.cond(\n",
    "        tf.shape(y_true)[0] > 1,\n",
    "        true_fn=calculate_penalty,\n",
    "        false_fn=no_penalty\n",
    "    )\n",
    "    \n",
    "    return mse + 0.5 * direction_penalty\n",
    "\n",
    "# create and fit the LSTM network\n",
    "model = Sequential()\n",
    "# model.add(LSTM(4, input_shape=(look_back, 9)))\n",
    "# model.add(Dense(1))\n",
    "\n",
    "model.add(Bidirectional(LSTM(32, return_sequences=True), input_shape=(look_back, 9)))\n",
    "model.add(Dropout(0.3))\n",
    "model.add(Bidirectional(LSTM(16)))\n",
    "model.add(Dropout(0.3))\n",
    "model.add(Dense(1))\n",
    "\n",
    "model.compile(loss=directional_loss, optimizer='adam')\n",
    "model.fit(trainX, trainY, epochs=10, batch_size=100, verbose=2)"
   ],
   "id": "6f947bdcb7a0fe6b",
   "outputs": [
    {
     "name": "stdout",
     "output_type": "stream",
     "text": [
      "Epoch 1/100\n"
     ]
    },
    {
     "name": "stderr",
     "output_type": "stream",
     "text": [
      "D:\\Anaconda\\Lib\\site-packages\\keras\\src\\layers\\rnn\\bidirectional.py:107: UserWarning: Do not pass an `input_shape`/`input_dim` argument to a layer. When using Sequential models, prefer using an `Input(shape)` object as the first layer in the model instead.\n",
      "  super().__init__(**kwargs)\n"
     ]
    },
    {
     "name": "stdout",
     "output_type": "stream",
     "text": [
      "390/390 - 7s - 18ms/step - loss: 0.0766\n",
      "Epoch 2/100\n",
      "390/390 - 7s - 19ms/step - loss: 0.0485\n",
      "Epoch 3/100\n",
      "390/390 - 21s - 54ms/step - loss: 0.0711\n",
      "Epoch 4/100\n",
      "390/390 - 23s - 60ms/step - loss: 0.0933\n",
      "Epoch 5/100\n",
      "390/390 - 17s - 42ms/step - loss: 0.1107\n",
      "Epoch 6/100\n",
      "390/390 - 17s - 43ms/step - loss: 0.1168\n",
      "Epoch 7/100\n",
      "390/390 - 17s - 45ms/step - loss: 0.1231\n",
      "Epoch 8/100\n",
      "390/390 - 14s - 37ms/step - loss: 0.1254\n",
      "Epoch 9/100\n",
      "390/390 - 21s - 53ms/step - loss: 0.1269\n",
      "Epoch 10/100\n",
      "390/390 - 21s - 55ms/step - loss: 0.1246\n",
      "Epoch 11/100\n",
      "390/390 - 39s - 100ms/step - loss: 0.1226\n",
      "Epoch 12/100\n",
      "390/390 - 17s - 43ms/step - loss: 0.1245\n",
      "Epoch 13/100\n",
      "390/390 - 4s - 9ms/step - loss: 0.1220\n",
      "Epoch 14/100\n",
      "390/390 - 2s - 6ms/step - loss: 0.1261\n",
      "Epoch 15/100\n",
      "390/390 - 4s - 9ms/step - loss: 0.1256\n",
      "Epoch 16/100\n",
      "390/390 - 4s - 9ms/step - loss: 0.1235\n",
      "Epoch 17/100\n",
      "390/390 - 3s - 8ms/step - loss: 0.1216\n",
      "Epoch 18/100\n",
      "390/390 - 3s - 8ms/step - loss: 0.1230\n",
      "Epoch 19/100\n",
      "390/390 - 2s - 6ms/step - loss: 0.1225\n",
      "Epoch 20/100\n",
      "390/390 - 2s - 6ms/step - loss: 0.1204\n",
      "Epoch 21/100\n",
      "390/390 - 2s - 6ms/step - loss: 0.1225\n",
      "Epoch 22/100\n",
      "390/390 - 2s - 6ms/step - loss: 0.1234\n",
      "Epoch 23/100\n",
      "390/390 - 4s - 9ms/step - loss: 0.1249\n",
      "Epoch 24/100\n",
      "390/390 - 3s - 7ms/step - loss: 0.1216\n",
      "Epoch 25/100\n",
      "390/390 - 2s - 6ms/step - loss: 0.1240\n",
      "Epoch 26/100\n",
      "390/390 - 2s - 6ms/step - loss: 0.1226\n",
      "Epoch 27/100\n",
      "390/390 - 2s - 6ms/step - loss: 0.1205\n",
      "Epoch 28/100\n",
      "390/390 - 3s - 7ms/step - loss: 0.1198\n",
      "Epoch 29/100\n",
      "390/390 - 3s - 8ms/step - loss: 0.1225\n",
      "Epoch 30/100\n",
      "390/390 - 3s - 8ms/step - loss: 0.1216\n",
      "Epoch 31/100\n",
      "390/390 - 3s - 8ms/step - loss: 0.1231\n",
      "Epoch 32/100\n",
      "390/390 - 3s - 8ms/step - loss: 0.1210\n",
      "Epoch 33/100\n",
      "390/390 - 3s - 8ms/step - loss: 0.1198\n",
      "Epoch 34/100\n",
      "390/390 - 3s - 7ms/step - loss: 0.1207\n",
      "Epoch 35/100\n",
      "390/390 - 3s - 8ms/step - loss: 0.1195\n",
      "Epoch 36/100\n",
      "390/390 - 3s - 8ms/step - loss: 0.1210\n",
      "Epoch 37/100\n",
      "390/390 - 3s - 8ms/step - loss: 0.1201\n",
      "Epoch 38/100\n",
      "390/390 - 3s - 8ms/step - loss: 0.1203\n",
      "Epoch 39/100\n",
      "390/390 - 3s - 7ms/step - loss: 0.1232\n",
      "Epoch 40/100\n",
      "390/390 - 4s - 9ms/step - loss: 0.1183\n",
      "Epoch 41/100\n",
      "390/390 - 4s - 9ms/step - loss: 0.1191\n",
      "Epoch 42/100\n",
      "390/390 - 4s - 9ms/step - loss: 0.1187\n",
      "Epoch 43/100\n",
      "390/390 - 4s - 10ms/step - loss: 0.1192\n",
      "Epoch 44/100\n",
      "390/390 - 3s - 8ms/step - loss: 0.1218\n",
      "Epoch 45/100\n",
      "390/390 - 4s - 9ms/step - loss: 0.1188\n",
      "Epoch 46/100\n",
      "390/390 - 4s - 10ms/step - loss: 0.1206\n",
      "Epoch 47/100\n",
      "390/390 - 3s - 8ms/step - loss: 0.1220\n",
      "Epoch 48/100\n",
      "390/390 - 4s - 9ms/step - loss: 0.1183\n",
      "Epoch 49/100\n",
      "390/390 - 3s - 7ms/step - loss: 0.1193\n",
      "Epoch 50/100\n",
      "390/390 - 3s - 7ms/step - loss: 0.1214\n",
      "Epoch 51/100\n",
      "390/390 - 3s - 7ms/step - loss: 0.1204\n",
      "Epoch 52/100\n",
      "390/390 - 3s - 8ms/step - loss: 0.1211\n",
      "Epoch 53/100\n",
      "390/390 - 3s - 7ms/step - loss: 0.1206\n",
      "Epoch 54/100\n",
      "390/390 - 3s - 7ms/step - loss: 0.1225\n",
      "Epoch 55/100\n",
      "390/390 - 3s - 8ms/step - loss: 0.1196\n",
      "Epoch 56/100\n",
      "390/390 - 3s - 7ms/step - loss: 0.1206\n",
      "Epoch 57/100\n",
      "390/390 - 3s - 8ms/step - loss: 0.1216\n",
      "Epoch 58/100\n",
      "390/390 - 3s - 8ms/step - loss: 0.1190\n",
      "Epoch 59/100\n",
      "390/390 - 3s - 7ms/step - loss: 0.1179\n",
      "Epoch 60/100\n",
      "390/390 - 3s - 8ms/step - loss: 0.1203\n",
      "Epoch 61/100\n",
      "390/390 - 2s - 6ms/step - loss: 0.1208\n",
      "Epoch 62/100\n",
      "390/390 - 2s - 6ms/step - loss: 0.1190\n",
      "Epoch 63/100\n",
      "390/390 - 2s - 6ms/step - loss: 0.1202\n",
      "Epoch 64/100\n",
      "390/390 - 3s - 8ms/step - loss: 0.1194\n",
      "Epoch 65/100\n",
      "390/390 - 3s - 7ms/step - loss: 0.1192\n",
      "Epoch 66/100\n",
      "390/390 - 3s - 8ms/step - loss: 0.1219\n",
      "Epoch 67/100\n",
      "390/390 - 2s - 6ms/step - loss: 0.1212\n",
      "Epoch 68/100\n",
      "390/390 - 2s - 6ms/step - loss: 0.1229\n",
      "Epoch 69/100\n",
      "390/390 - 2s - 6ms/step - loss: 0.1195\n",
      "Epoch 70/100\n",
      "390/390 - 2s - 6ms/step - loss: 0.1198\n",
      "Epoch 71/100\n",
      "390/390 - 3s - 7ms/step - loss: 0.1205\n",
      "Epoch 72/100\n",
      "390/390 - 2s - 6ms/step - loss: 0.1168\n",
      "Epoch 73/100\n",
      "390/390 - 2s - 6ms/step - loss: 0.1199\n",
      "Epoch 74/100\n",
      "390/390 - 2s - 6ms/step - loss: 0.1195\n",
      "Epoch 75/100\n",
      "390/390 - 3s - 7ms/step - loss: 0.1185\n",
      "Epoch 76/100\n",
      "390/390 - 2s - 6ms/step - loss: 0.1191\n",
      "Epoch 77/100\n",
      "390/390 - 3s - 7ms/step - loss: 0.1190\n",
      "Epoch 78/100\n",
      "390/390 - 2s - 6ms/step - loss: 0.1180\n",
      "Epoch 79/100\n",
      "390/390 - 2s - 6ms/step - loss: 0.1201\n",
      "Epoch 80/100\n",
      "390/390 - 3s - 7ms/step - loss: 0.1210\n",
      "Epoch 81/100\n",
      "390/390 - 2s - 6ms/step - loss: 0.1188\n",
      "Epoch 82/100\n",
      "390/390 - 2s - 6ms/step - loss: 0.1204\n",
      "Epoch 83/100\n",
      "390/390 - 2s - 6ms/step - loss: 0.1202\n",
      "Epoch 84/100\n",
      "390/390 - 2s - 6ms/step - loss: 0.1181\n",
      "Epoch 85/100\n",
      "390/390 - 2s - 6ms/step - loss: 0.1159\n",
      "Epoch 86/100\n",
      "390/390 - 2s - 6ms/step - loss: 0.1192\n",
      "Epoch 87/100\n",
      "390/390 - 2s - 6ms/step - loss: 0.1195\n",
      "Epoch 88/100\n",
      "390/390 - 3s - 7ms/step - loss: 0.1210\n",
      "Epoch 89/100\n",
      "390/390 - 6s - 16ms/step - loss: 0.1156\n",
      "Epoch 90/100\n",
      "390/390 - 7s - 17ms/step - loss: 0.1245\n",
      "Epoch 91/100\n",
      "390/390 - 7s - 19ms/step - loss: 0.1197\n",
      "Epoch 92/100\n",
      "390/390 - 6s - 17ms/step - loss: 0.1184\n",
      "Epoch 93/100\n",
      "390/390 - 2s - 6ms/step - loss: 0.1218\n",
      "Epoch 94/100\n",
      "390/390 - 3s - 6ms/step - loss: 0.1181\n",
      "Epoch 95/100\n",
      "390/390 - 2s - 6ms/step - loss: 0.1200\n",
      "Epoch 96/100\n",
      "390/390 - 2s - 5ms/step - loss: 0.1184\n",
      "Epoch 97/100\n",
      "390/390 - 2s - 6ms/step - loss: 0.1210\n",
      "Epoch 98/100\n",
      "390/390 - 2s - 6ms/step - loss: 0.1182\n",
      "Epoch 99/100\n",
      "390/390 - 2s - 6ms/step - loss: 0.1181\n",
      "Epoch 100/100\n",
      "390/390 - 2s - 6ms/step - loss: 0.1218\n"
     ]
    },
    {
     "data": {
      "text/plain": [
       "<keras.src.callbacks.history.History at 0x26c6a0358e0>"
      ]
     },
     "execution_count": 52,
     "metadata": {},
     "output_type": "execute_result"
    }
   ],
   "execution_count": 52
  },
  {
   "metadata": {
    "ExecuteTime": {
     "end_time": "2025-07-16T12:09:13.241931Z",
     "start_time": "2025-07-16T12:09:07.742729Z"
    }
   },
   "cell_type": "code",
   "source": [
    "# make predictions\n",
    "trainPredict = model.predict(trainX)\n",
    "testPredict = model.predict(testX)\n",
    "\n",
    "trainPredict = trainPredict[:, 0]\n",
    "testPredict = testPredict[:, 0]"
   ],
   "id": "3162d6f176fd4986",
   "outputs": [
    {
     "name": "stdout",
     "output_type": "stream",
     "text": [
      "\u001B[1m1216/1216\u001B[0m \u001B[32m━━━━━━━━━━━━━━━━━━━━\u001B[0m\u001B[37m\u001B[0m \u001B[1m4s\u001B[0m 3ms/step\n",
      "\u001B[1m599/599\u001B[0m \u001B[32m━━━━━━━━━━━━━━━━━━━━\u001B[0m\u001B[37m\u001B[0m \u001B[1m1s\u001B[0m 2ms/step\n"
     ]
    }
   ],
   "execution_count": 53
  },
  {
   "metadata": {
    "ExecuteTime": {
     "end_time": "2025-07-16T12:09:16.041406Z",
     "start_time": "2025-07-16T12:09:16.035735Z"
    }
   },
   "cell_type": "code",
   "source": [
    "print(trainPredict[:5])\n",
    "print(trainY[:5])"
   ],
   "id": "aca527595143adad",
   "outputs": [
    {
     "name": "stdout",
     "output_type": "stream",
     "text": [
      "[0.08786149 0.08788805 0.08687672 0.08535066 0.08464773]\n",
      "[0.08296943 0.07726832 0.07790513 0.07784449 0.07772319]\n"
     ]
    }
   ],
   "execution_count": 54
  },
  {
   "metadata": {
    "ExecuteTime": {
     "end_time": "2025-07-16T12:12:09.747079Z",
     "start_time": "2025-07-16T12:12:09.673781Z"
    }
   },
   "cell_type": "code",
   "source": [
    "# # 逆变换预测值\n",
    "# trainPredict = inverse_first_column(trainPredict)\n",
    "# testPredict = inverse_first_column(testPredict)\n",
    "# \n",
    "# # 逆变换真实值\n",
    "# trainY = inverse_first_column(trainY)\n",
    "# testY = inverse_first_column(testY)\n",
    "\n",
    "# calculate root mean squared error\n",
    "# trainrmse = np.sqrt(mean_squared_error(trainY, trainPredict))\n",
    "# trainmae = np.mean(np.abs(trainY - trainPredict))\n",
    "# print('Train Score: %.8f RMSE' % (trainrmse))\n",
    "# print('Train Score: %.8f MAE' % (trainmae))\n",
    "# testrmse = np.sqrt(mean_squared_error(testY, testPredict))\n",
    "# testmae = np.mean(np.abs(testY - testPredict))\n",
    "# print('Test Score: %.8f RMSE' % (testrmse))\n",
    "# print('Test Score: %.8f MAE' % (testmae))\n",
    "\n",
    "# # 逆变换预测值\n",
    "trainPredict = inverse_first_column(trainPredict)\n",
    "testPredict = inverse_first_column(testPredict)\n",
    "\n",
    "# 逆变换真实值\n",
    "trainY = inverse_first_column(trainY)\n",
    "testY = inverse_first_column(testY)\n",
    "\n",
    "trainrmse = np.sqrt(mean_squared_error(trainY, trainPredict))\n",
    "trainmae = np.mean(np.abs(trainY - trainPredict))\n",
    "print('Train Score: %.8f RMSE' % (trainrmse))\n",
    "print('Train Score: %.8f MAE' % (trainmae))\n",
    "testrmse = np.sqrt(mean_squared_error(testY, testPredict))\n",
    "testmae = np.mean(np.abs(testY - testPredict))\n",
    "print('Test Score: %.8f RMSE' % (testrmse))\n",
    "print('Test Score: %.8f MAE' % (testmae))"
   ],
   "id": "c0ce18bf6649aaee",
   "outputs": [
    {
     "name": "stdout",
     "output_type": "stream",
     "text": [
      "38902\n",
      "19156\n",
      "38902\n",
      "19156\n",
      "Train Score: 0.00237256 RMSE\n",
      "Train Score: 0.00200536 MAE\n",
      "Test Score: 0.00192259 RMSE\n",
      "Test Score: 0.00125618 MAE\n"
     ]
    }
   ],
   "execution_count": 57
  },
  {
   "metadata": {
    "ExecuteTime": {
     "end_time": "2025-07-16T12:12:32.785362Z",
     "start_time": "2025-07-16T12:12:32.777291Z"
    }
   },
   "cell_type": "code",
   "source": [
    "print(trainY[:5])\n",
    "print(trainPredict[:5])"
   ],
   "id": "68a98355fbc7b9b6",
   "outputs": [
    {
     "name": "stdout",
     "output_type": "stream",
     "text": [
      "[0.04269 0.04081 0.04102 0.041   0.04096]\n",
      "[0.04430321 0.04431197 0.04397847 0.04347523 0.04324344]\n"
     ]
    }
   ],
   "execution_count": 58
  },
  {
   "metadata": {
    "ExecuteTime": {
     "end_time": "2025-07-17T02:32:10.230599Z",
     "start_time": "2025-07-17T02:32:09.641889Z"
    }
   },
   "cell_type": "code",
   "source": [
    "predict1 = np.full((len(dataset)), np.nan)\n",
    "predict1[look_back:len(trainPredict)+look_back] = trainPredict\n",
    "predict2 = np.full((len(dataset)), np.nan)\n",
    "predict2[len(trainPredict)+(look_back*2):len(dataset)] = testPredict\n",
    "# 仅绘制原始数据的第一列（乘客数量）\n",
    "plt.plot(scaler.inverse_transform(dataset)[:, 3], label='Original Data')\n",
    "plt.plot(predict1, label='Train Predict')\n",
    "plt.plot(predict2, label='Test Predict')\n",
    "plt.legend()\n",
    "plt.show()"
   ],
   "id": "421b0bb79479e6d8",
   "outputs": [
    {
     "data": {
      "text/plain": [
       "<Figure size 640x480 with 1 Axes>"
      ],
      "image/png": "[encoded data removed]"
     },
     "metadata": {},
     "output_type": "display_data"
    }
   ],
   "execution_count": 64
  },
  {
   "metadata": {
    "ExecuteTime": {
     "end_time": "2025-07-16T12:18:35.303037Z",
     "start_time": "2025-07-16T12:18:35.134313Z"
    }
   },
   "cell_type": "code",
   "source": [
    "(dataframe.describe())\n",
    "print(predict1.shape)\n",
    "dataframe['predict'] = predict\n",
    "dataframe[['close_price', 'predict']].to_csv('data_value.csv')"
   ],
   "id": "c7895666f126b438",
   "outputs": [
    {
     "name": "stdout",
     "output_type": "stream",
     "text": [
      "(58078,)\n"
     ]
    }
   ],
   "execution_count": 63
  },
  {
   "metadata": {},
   "cell_type": "code",
   "outputs": [],
   "execution_count": null,
   "source": "",
   "id": "31f496a2c16a37e6"
  }
 ],
 "metadata": {
  "kernelspec": {
   "display_name": "Python 3",
   "language": "python",
   "name": "python3"
  },
  "language_info": {
   "codemirror_mode": {
    "name": "ipython",
    "version": 2
   },
   "file_extension": ".py",
   "mimetype": "text/x-python",
   "name": "python",
   "nbconvert_exporter": "python",
   "pygments_lexer": "ipython2",
   "version": "2.7.6"
  }
 },
 "nbformat": 4,
 "nbformat_minor": 5
}
